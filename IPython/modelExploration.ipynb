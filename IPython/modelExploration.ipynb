{
 "cells": [
  {
   "cell_type": "markdown",
   "metadata": {},
   "source": [
    "# Experimenting with ML models\n",
    "In this notebook, I'm experimenting with a few different models, to see which might be the most favorable option"
   ]
  },
  {
   "cell_type": "code",
   "execution_count": 39,
   "metadata": {},
   "outputs": [],
   "source": [
    "import category_encoders as ce\n",
    "import matplotlib.pyplot as plt\n",
    "import numpy as np\n",
    "import pandas as pd\n",
    "from sklearn.impute import SimpleImputer\n",
    "from sklearn.model_selection import train_test_split, cross_val_score\n",
    "from sklearn.linear_model import LinearRegression\n",
    "from sklearn.ensemble import RandomForestRegressor\n",
    "from sklearn.pipeline import make_pipeline\n",
    "from sklearn.preprocessing import StandardScaler\n",
    "from sklearn.feature_selection import f_regression, SelectKBest"
   ]
  },
  {
   "cell_type": "code",
   "execution_count": 2,
   "metadata": {},
   "outputs": [],
   "source": [
    "# Read in data\n",
    "path = '../data/guitars.csv'\n",
    "guitars = pd.read_csv(path)"
   ]
  },
  {
   "cell_type": "code",
   "execution_count": 3,
   "metadata": {},
   "outputs": [],
   "source": [
    "# Remove crazy outliers above $10,000\n",
    "guitars = guitars.drop(index=guitars.loc[guitars['Price'] > 9999.99].index)"
   ]
  },
  {
   "cell_type": "code",
   "execution_count": 4,
   "metadata": {},
   "outputs": [],
   "source": [
    "def wrangle(X):\n",
    "    '''Bulk wrangle for split data'''\n",
    "    \n",
    "    # Avoid setting with copy\n",
    "    X = X.copy()\n",
    "    \n",
    "    # Set feature thresholds\n",
    "    model_limit = 50\n",
    "    brand_limit = 50\n",
    "    color_limit = 100\n",
    "    material_limit = 50\n",
    "    btype_limit = 30\n",
    "    size_limit = 10\n",
    "    pline_limit = 50\n",
    "    \n",
    "    # Clean conditions column text\n",
    "    X['Condition'] = X['Condition'].str.replace('\\:\\D+', '')\n",
    "    \n",
    "    # Make null values out of the incorrectly entered categories\n",
    "    conditions = ['Used', 'New', 'Open box', 'Seller refurbished',\n",
    "                  'For parts or not working', 'Manufacturer refurbished']\n",
    "    \n",
    "    X.loc[~X['Condition'].isin(conditions), 'Condition'] = np.nan\n",
    "    \n",
    "    # Combine columns that are obviously the same and where values are null\n",
    "    to_merge = {'Right-/ Left-Handed': ['Dexterity', 'Hand'],\n",
    "                'Country/Region of Manufacture': ['Country of Manufacture'], \n",
    "                'Body Color': ['Color'], 'Body Type': ['Type']}\n",
    "    for main_feat, dup_feat in to_merge.items():\n",
    "        for f in dup_feat:\n",
    "            condition = X[main_feat].isnull() & ~X[f].isnull()\n",
    "            X.loc[condition, main_feat] = X[f]\n",
    "            # Drop column after merge\n",
    "        X = X.drop(columns=dup_feat)\n",
    "    \n",
    "    # TODO: fix right-left hand business\n",
    "    # Reduce categories in the right-/ left hand column\n",
    "    X['Orientation'] = X['Right-/ Left-Handed'].str.upper()\n",
    "    X['Orientation'] = X['Orientation'].str.replace(\n",
    "        '(RIGHT OR LEFT|LEFT OR RIGHT|EITHER|LAP|RIGHT-HANDED,).*', \n",
    "        'BOTH')\n",
    "    X['Orientation'] = X['Orientation'].str.replace(\n",
    "        'R.*', 'RIGHT-HANDED')\n",
    "    X['Orientation'] = X['Orientation'].str.replace(\n",
    "        'L.*', 'LEFT-HANDED')\n",
    "    \n",
    "    # Remove names that aren't real models from top 100\n",
    "    X['Model'] = X['Model'].str.upper()\n",
    "    not_a_model = ['DRN979CTV LH BK 2ND', '39\" ELECTRIC GUITAR', '2019',\n",
    "                   'DOES NOT APPLY', 'UNKNOWN', 'GTR235 LH BK 2ND']  \n",
    "    top_models = X['Model'].value_counts()[:model_limit].index\n",
    "    \n",
    "    X.loc[X['Model'].isin(not_a_model), 'Model'] = 'OTHER'\n",
    "    X.loc[~X['Model'].isin(top_models), 'Model'] = 'OTHER'\n",
    "    \n",
    "    # Clean and shrink the brand column\n",
    "    X['Brand'] = X['Brand'].str.upper()\n",
    "    X['Brand'] = X['Brand'].str.replace('UNBRANDED.*', 'UNBRANDED')\n",
    "    top_brands = X['Brand'].value_counts()[:brand_limit].index\n",
    "    X.loc[~X['Brand'].isin(top_brands), 'Brand'] = 'OTHER'\n",
    "    \n",
    "    # Clean and shrink cardinality of the string configuration column\n",
    "    standard_configs = ['6 String', '7 String', '8 String', '9 String', '12 String']\n",
    "    \n",
    "    X['String Configuration'] = X['String Configuration'].str.upper()\n",
    "    X['String Configuration'] = X['String Configuration'].str.replace(\n",
    "        '6\\W*STRING(?!78912).*|^6$|6\\s*\\w*\\s*STRINGS(?!78912)', '6 STRING')\n",
    "    X['String Configuration'] = X['String Configuration'].str.replace('^7$', '7 STRING')\n",
    "    X['String Configuration'] = X['String Configuration'].str.replace('12\\W*STRING', '12 STRING')\n",
    "    \n",
    "    X.loc[~X['String Configuration'].isin(standard_configs), 'String Configuration'] = 'OTHER'\n",
    "    \n",
    "    # Turn UPC and MPN into included and not included categories\n",
    "    X['UPC'] = X['UPC'].str.upper()\n",
    "    X.loc[X['UPC'] != 'DOES NOT APPLY', 'UPC'] = 'PROVIDED'\n",
    "    X.loc[X['UPC'] == 'DOES NOT APPLY', 'UPC'] = 'NOT AVAILABLE'\n",
    "    \n",
    "    # If MPN entry contains a digit, it can be considered a valid entry\n",
    "    mpn_condition = X['MPN'].str.contains('\\d')\n",
    "    X.loc[mpn_condition == True, 'MPN'] = 'PROVIDED'\n",
    "    X.loc[mpn_condition == False, 'MPN'] = 'NOT AVAILABLE'\n",
    "    \n",
    "    # Reduce size, color and material and product line cardinality\n",
    "    features_limits = {'Body Color': color_limit,\n",
    "                       'Body Material': material_limit,\n",
    "                       'Size': size_limit,\n",
    "                       'Product Line': pline_limit}\n",
    "    \n",
    "    for feat, lim in features_limits.items(): # Apply the same wrangling to 3 features\n",
    "        X[feat] = X[feat].str.upper()\n",
    "        top = X[feat].value_counts()[:lim].index\n",
    "        X.loc[~X[feat].isin(top), feat] = 'OTHER'\n",
    "    \n",
    "    # Reduce body type cardinality\n",
    "    X['Body Type'] = X['Body Type'].str.upper()\n",
    "    top_btypes = X['Body Type'].value_counts().index[:btype_limit]\n",
    "    X['Body Type'].str.replace('STRAT.*', 'STRATOCASTER')\n",
    "    X.loc[~X['Body Type'].isin(top_btypes), 'Body Type'] = 'OTHER'\n",
    "    \n",
    "    # Make model year a numeric category\n",
    "    X.loc[X['Model Year'].str.contains('^\\d{4}$') == False, 'Model Year'] = np.nan\n",
    "    X['Model Year'] = pd.to_numeric(X['Model Year'])    \n",
    "    \n",
    "    return X"
   ]
  },
  {
   "cell_type": "markdown",
   "metadata": {},
   "source": [
    "### Beginning With a Baseline\n",
    "The mean absolute error produced by guessing will help to establish a baseline to begin improving upon. What is the mean absolute error produced by predicting the mean price for every sample"
   ]
  },
  {
   "cell_type": "code",
   "execution_count": 24,
   "metadata": {},
   "outputs": [
    {
     "name": "stdout",
     "output_type": "stream",
     "text": [
      "Mean Absolute Error: $505.91\n"
     ]
    }
   ],
   "source": [
    "# Start with a baseline\n",
    "error = guitars['Price'] - guitars['Price'].mean()\n",
    "mae = error.abs().mean()\n",
    "print(f'Mean Absolute Error: ${mae:.2f}')"
   ]
  },
  {
   "cell_type": "markdown",
   "metadata": {},
   "source": [
    "Off by $500 isn't terrible, but for some guitar sales on eBay, that may be completely off the mark, like in the case of guitars sold for ridiculously low prices, i.e. for parts or not working."
   ]
  },
  {
   "cell_type": "markdown",
   "metadata": {},
   "source": [
    "### Exploring ML models\n",
    "Just for comparison's sake, I'm exploring the error produced by a few regression techniques with default parameters. "
   ]
  },
  {
   "cell_type": "code",
   "execution_count": 5,
   "metadata": {},
   "outputs": [],
   "source": [
    "# Split into train and test in preparation for cross-validation\n",
    "train, test = train_test_split(guitars, train_size=0.8, random_state=42)\n",
    "\n",
    "# Apply wrangling to train and test\n",
    "train = wrangle(train)\n",
    "test = wrangle(test)"
   ]
  },
  {
   "cell_type": "code",
   "execution_count": 6,
   "metadata": {},
   "outputs": [
    {
     "data": {
      "text/plain": [
       "((9956, 33), (2489, 33))"
      ]
     },
     "execution_count": 6,
     "metadata": {},
     "output_type": "execute_result"
    }
   ],
   "source": [
    "train.shape, test.shape"
   ]
  },
  {
   "cell_type": "code",
   "execution_count": 11,
   "metadata": {},
   "outputs": [],
   "source": [
    "# Arrange data into X_train and y_train for CV\n",
    "target = 'Price'\n",
    "features = ['Model', 'MPN', 'Body Color', 'Brand', \n",
    "            'UPC', 'Body Material', 'Body Type', \n",
    "            'Model Year', 'Size', 'Country/Region of Manufacture',\n",
    "            'String Configuration', 'Orientation', \n",
    "            'Product Line','Condition']\n",
    "X_train = train[features]\n",
    "y_train = train[target]"
   ]
  },
  {
   "cell_type": "code",
   "execution_count": 38,
   "metadata": {},
   "outputs": [
    {
     "name": "stderr",
     "output_type": "stream",
     "text": [
      "/home/jose/anaconda3/lib/python3.7/site-packages/sklearn/feature_selection/univariate_selection.py:299: RuntimeWarning: invalid value encountered in true_divide\n",
      "  corr /= X_norms\n",
      "/home/jose/anaconda3/lib/python3.7/site-packages/scipy/stats/_distn_infrastructure.py:901: RuntimeWarning: invalid value encountered in greater\n",
      "  return (a < x) & (x < b)\n",
      "/home/jose/anaconda3/lib/python3.7/site-packages/scipy/stats/_distn_infrastructure.py:901: RuntimeWarning: invalid value encountered in less\n",
      "  return (a < x) & (x < b)\n",
      "/home/jose/anaconda3/lib/python3.7/site-packages/scipy/stats/_distn_infrastructure.py:1892: RuntimeWarning: invalid value encountered in less_equal\n",
      "  cond2 = cond0 & (x <= _a)\n",
      "/home/jose/anaconda3/lib/python3.7/site-packages/sklearn/feature_selection/univariate_selection.py:299: RuntimeWarning: invalid value encountered in true_divide\n",
      "  corr /= X_norms\n",
      "/home/jose/anaconda3/lib/python3.7/site-packages/scipy/stats/_distn_infrastructure.py:901: RuntimeWarning: invalid value encountered in greater\n",
      "  return (a < x) & (x < b)\n",
      "/home/jose/anaconda3/lib/python3.7/site-packages/scipy/stats/_distn_infrastructure.py:901: RuntimeWarning: invalid value encountered in less\n",
      "  return (a < x) & (x < b)\n",
      "/home/jose/anaconda3/lib/python3.7/site-packages/scipy/stats/_distn_infrastructure.py:1892: RuntimeWarning: invalid value encountered in less_equal\n",
      "  cond2 = cond0 & (x <= _a)\n",
      "/home/jose/anaconda3/lib/python3.7/site-packages/sklearn/feature_selection/univariate_selection.py:299: RuntimeWarning: invalid value encountered in true_divide\n",
      "  corr /= X_norms\n",
      "/home/jose/anaconda3/lib/python3.7/site-packages/scipy/stats/_distn_infrastructure.py:901: RuntimeWarning: invalid value encountered in greater\n",
      "  return (a < x) & (x < b)\n",
      "/home/jose/anaconda3/lib/python3.7/site-packages/scipy/stats/_distn_infrastructure.py:901: RuntimeWarning: invalid value encountered in less\n",
      "  return (a < x) & (x < b)\n",
      "/home/jose/anaconda3/lib/python3.7/site-packages/scipy/stats/_distn_infrastructure.py:1892: RuntimeWarning: invalid value encountered in less_equal\n",
      "  cond2 = cond0 & (x <= _a)\n"
     ]
    },
    {
     "name": "stdout",
     "output_type": "stream",
     "text": [
      "MAE for 3 folds: [389.41678633 378.89557351 390.92718173]\n",
      "Mean of 3 scores: 386.41318052311885\n"
     ]
    }
   ],
   "source": [
    "# Fit pipeline for a basic Linear Regression, get cross validated erro\n",
    "\n",
    "pipeline = make_pipeline(\n",
    "    ce.OneHotEncoder(),\n",
    "    SimpleImputer(),\n",
    "    StandardScaler(),\n",
    "    SelectKBest(f_regression, k=40),\n",
    "    LinearRegression()\n",
    ")\n",
    "\n",
    "k=3\n",
    "scores = cross_val_score(pipeline, X_train, y_train, cv=k,\n",
    "                         scoring='neg_mean_absolute_error')\n",
    "print(f'MAE for {k} folds:', -scores)\n",
    "print(f'Mean of {k} scores:', -scores.mean())"
   ]
  },
  {
   "cell_type": "markdown",
   "metadata": {},
   "source": [
    "An error of ~$390 is better than guessing, but not by enough. How does the error look with a random forest regressor?"
   ]
  },
  {
   "cell_type": "code",
   "execution_count": 46,
   "metadata": {},
   "outputs": [
    {
     "name": "stdout",
     "output_type": "stream",
     "text": [
      "MAE for 5 folds: [301.76091219 296.22328903 281.87790966 298.40733992 292.8445628 ]\n",
      "Mean of 5 scores: 294.22280272198327\n"
     ]
    }
   ],
   "source": [
    "# Fit pipeline for a random forest regressor, get cross validated error\n",
    "\n",
    "pipeline = make_pipeline(\n",
    "    ce.OneHotEncoder(),\n",
    "    SimpleImputer(),\n",
    "    RandomForestRegressor(n_estimators=100, n_jobs=-1, random_state=42)\n",
    ")\n",
    "\n",
    "k=5\n",
    "scores = cross_val_score(pipeline, X_train, y_train, cv=k,\n",
    "                         scoring='neg_mean_absolute_error')\n",
    "print(f'MAE for {k} folds:', -scores)\n",
    "print(f'Mean of {k} scores:', -scores.mean())"
   ]
  },
  {
   "cell_type": "markdown",
   "metadata": {},
   "source": [
    "~$294 gets even closer, but it's likely that things can be done to get even closer still, without overfitting the data. The price column is heavily right skewed, so there is some log transformation in order."
   ]
  },
  {
   "cell_type": "code",
   "execution_count": 49,
   "metadata": {},
   "outputs": [
    {
     "data": {
      "image/png": "[encoded data removed]",
      "text/plain": [
       "<Figure size 432x288 with 1 Axes>"
      ]
     },
     "metadata": {
      "needs_background": "light"
     },
     "output_type": "display_data"
    }
   ],
   "source": [
    "# Visualize skew in price\n",
    "import seaborn as sns\n",
    "sns.distplot(y_train);"
   ]
  },
  {
   "cell_type": "markdown",
   "metadata": {},
   "source": [
    "### Log Transformation\n",
    "If I log transorm the price, the distribution looks a little more normal"
   ]
  },
  {
   "cell_type": "code",
   "execution_count": 51,
   "metadata": {},
   "outputs": [
    {
     "data": {
      "image/png": "[encoded data removed]",
      "text/plain": [
       "<Figure size 432x288 with 1 Axes>"
      ]
     },
     "metadata": {
      "needs_background": "light"
     },
     "output_type": "display_data"
    }
   ],
   "source": [
    "y_log = np.log1p(y_train)\n",
    "sns.distplot(y_log);"
   ]
  },
  {
   "cell_type": "markdown",
   "metadata": {},
   "source": [
    "Does the baseline error improve after this transformation?"
   ]
  },
  {
   "cell_type": "code",
   "execution_count": 63,
   "metadata": {},
   "outputs": [
    {
     "name": "stdout",
     "output_type": "stream",
     "text": [
      "Mean Absolute Error of Log Transformed y: $1.35\n"
     ]
    }
   ],
   "source": [
    "error = y_log - y_log.mean()\n",
    "mae_transformed = error.abs().mean()\n",
    "\n",
    "# Untransform mae\n",
    "mae = np.expm1(mae_transformed)\n",
    "print(f'Mean Absolute Error of Log Transformed y: ${mae:.2f}')"
   ]
  },
  {
   "cell_type": "markdown",
   "metadata": {},
   "source": [
    "After transformation, the baseline gets down to less than $2 of error. Does that mean that the models tried before will do much better than before with a log transformed price?"
   ]
  },
  {
   "cell_type": "code",
   "execution_count": 65,
   "metadata": {},
   "outputs": [
    {
     "name": "stderr",
     "output_type": "stream",
     "text": [
      "/home/jose/anaconda3/lib/python3.7/site-packages/sklearn/feature_selection/univariate_selection.py:299: RuntimeWarning: invalid value encountered in true_divide\n",
      "  corr /= X_norms\n",
      "/home/jose/anaconda3/lib/python3.7/site-packages/scipy/stats/_distn_infrastructure.py:901: RuntimeWarning: invalid value encountered in greater\n",
      "  return (a < x) & (x < b)\n",
      "/home/jose/anaconda3/lib/python3.7/site-packages/scipy/stats/_distn_infrastructure.py:901: RuntimeWarning: invalid value encountered in less\n",
      "  return (a < x) & (x < b)\n",
      "/home/jose/anaconda3/lib/python3.7/site-packages/scipy/stats/_distn_infrastructure.py:1892: RuntimeWarning: invalid value encountered in less_equal\n",
      "  cond2 = cond0 & (x <= _a)\n",
      "/home/jose/anaconda3/lib/python3.7/site-packages/sklearn/feature_selection/univariate_selection.py:299: RuntimeWarning: invalid value encountered in true_divide\n",
      "  corr /= X_norms\n",
      "/home/jose/anaconda3/lib/python3.7/site-packages/scipy/stats/_distn_infrastructure.py:901: RuntimeWarning: invalid value encountered in greater\n",
      "  return (a < x) & (x < b)\n",
      "/home/jose/anaconda3/lib/python3.7/site-packages/scipy/stats/_distn_infrastructure.py:901: RuntimeWarning: invalid value encountered in less\n",
      "  return (a < x) & (x < b)\n",
      "/home/jose/anaconda3/lib/python3.7/site-packages/scipy/stats/_distn_infrastructure.py:1892: RuntimeWarning: invalid value encountered in less_equal\n",
      "  cond2 = cond0 & (x <= _a)\n",
      "/home/jose/anaconda3/lib/python3.7/site-packages/sklearn/feature_selection/univariate_selection.py:299: RuntimeWarning: invalid value encountered in true_divide\n",
      "  corr /= X_norms\n",
      "/home/jose/anaconda3/lib/python3.7/site-packages/scipy/stats/_distn_infrastructure.py:901: RuntimeWarning: invalid value encountered in greater\n",
      "  return (a < x) & (x < b)\n",
      "/home/jose/anaconda3/lib/python3.7/site-packages/scipy/stats/_distn_infrastructure.py:901: RuntimeWarning: invalid value encountered in less\n",
      "  return (a < x) & (x < b)\n",
      "/home/jose/anaconda3/lib/python3.7/site-packages/scipy/stats/_distn_infrastructure.py:1892: RuntimeWarning: invalid value encountered in less_equal\n",
      "  cond2 = cond0 & (x <= _a)\n"
     ]
    },
    {
     "name": "stdout",
     "output_type": "stream",
     "text": [
      "MAE for 3 folds: [0.46712178 0.46091108 0.4706014 ]\n",
      "Mean of 3 scores: 0.4662114217673827\n"
     ]
    }
   ],
   "source": [
    "# Fit pipeline for a basic Linear Regression, get cross validated erro\n",
    "\n",
    "pipeline = make_pipeline(\n",
    "    ce.OneHotEncoder(),\n",
    "    SimpleImputer(),\n",
    "    StandardScaler(),\n",
    "    SelectKBest(f_regression, k=40),\n",
    "    LinearRegression()\n",
    ")\n",
    "\n",
    "k=3\n",
    "scores = cross_val_score(pipeline, X_train, y_log, cv=k,\n",
    "                         scoring='neg_mean_absolute_error')\n",
    "scores_untransformed = np.expm1(scores)\n",
    "print(f'MAE for {k} folds:', -scores_untransformed)\n",
    "print(f'Mean of {k} scores:', -scores_untransformed.mean())"
   ]
  },
  {
   "cell_type": "markdown",
   "metadata": {},
   "source": [
    "Now the linear regression model's error is down below $1"
   ]
  },
  {
   "cell_type": "code",
   "execution_count": 66,
   "metadata": {},
   "outputs": [
    {
     "name": "stdout",
     "output_type": "stream",
     "text": [
      "MAE for 5 folds: [0.38476705 0.38921204 0.37931688 0.38937286 0.38987671]\n",
      "Mean of 5 scores: 0.38650910761729335\n"
     ]
    }
   ],
   "source": [
    "# Fit pipeline for a random forest regressor, get cross validated error\n",
    "\n",
    "pipeline = make_pipeline(\n",
    "    ce.OneHotEncoder(),\n",
    "    SimpleImputer(),\n",
    "    RandomForestRegressor(n_estimators=100, n_jobs=-1, random_state=42)\n",
    ")\n",
    "\n",
    "k=5\n",
    "scores = cross_val_score(pipeline, X_train, y_log, cv=k,\n",
    "                         scoring='neg_mean_absolute_error')\n",
    "scores_untransformed = np.expm1(scores)\n",
    "print(f'MAE for {k} folds:', -scores_untransformed)\n",
    "print(f'Mean of {k} scores:', -scores_untransformed.mean())"
   ]
  },
  {
   "cell_type": "markdown",
   "metadata": {},
   "source": [
    "### XGBoost and Permutation Importance"
   ]
  },
  {
   "cell_type": "code",
   "execution_count": 12,
   "metadata": {},
   "outputs": [
    {
     "data": {
      "text/plain": [
       "RIGHT-HANDED    7483\n",
       "LEFT-HANDED      260\n",
       "BOTH              10\n",
       "Name: Orientation, dtype: int64"
      ]
     },
     "execution_count": 12,
     "metadata": {},
     "output_type": "execute_result"
    }
   ],
   "source": [
    "X_train['Orientation'].value_counts()"
   ]
  }
 ],
 "metadata": {
  "kernelspec": {
   "display_name": "Python 3",
   "language": "python",
   "name": "python3"
  },
  "language_info": {
   "codemirror_mode": {
    "name": "ipython",
    "version": 3
   },
   "file_extension": ".py",
   "mimetype": "text/x-python",
   "name": "python",
   "nbconvert_exporter": "python",
   "pygments_lexer": "ipython3",
   "version": "3.7.4"
  }
 },
 "nbformat": 4,
 "nbformat_minor": 4
}

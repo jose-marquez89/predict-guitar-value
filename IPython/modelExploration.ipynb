{
 "cells": [
  {
   "cell_type": "code",
   "execution_count": 1,
   "metadata": {},
   "outputs": [],
   "source": [
    "import category_encoders as ce\n",
    "import matplotlib.pyplot as plt\n",
    "import numpy as np\n",
    "import pandas as pd\n",
    "from sklearn.impute import SimpleImputer\n",
    "from sklearn.model_selection import train_test_split\n",
    "from sklearn.linear_model import LinearRegression\n",
    "from sklearn.pipeline import make_pipeline\n",
    "from sklearn.preprocessing import StandardScaler"
   ]
  },
  {
   "cell_type": "code",
   "execution_count": 7,
   "metadata": {},
   "outputs": [],
   "source": [
    "# Read in data\n",
    "path = '../data/guitars.csv'\n",
    "guitars = pd.read_csv(path)"
   ]
  },
  {
   "cell_type": "code",
   "execution_count": 8,
   "metadata": {},
   "outputs": [],
   "source": [
    "# Remove crazy outliers above $10,000\n",
    "guitars = guitars.drop(index=guitars.loc[guitars['Price'] > 9999.99].index)"
   ]
  },
  {
   "cell_type": "code",
   "execution_count": 37,
   "metadata": {},
   "outputs": [],
   "source": [
    "def wrangle(X):\n",
    "    '''Bulk wrangle for split data'''\n",
    "    \n",
    "    # Avoid setting with copy\n",
    "    X = X.copy()\n",
    "    \n",
    "    # Set feature thresholds\n",
    "    model_limit = 50\n",
    "    brand_limit = 50\n",
    "    color_limit = 100\n",
    "    material_limit = 50\n",
    "    btype_limit = 30\n",
    "    size_limit = 10\n",
    "    \n",
    "    # Clean conditions column text\n",
    "    X['Condition'] = X['Condition'].str.replace('\\:\\D+', '')\n",
    "    \n",
    "    # Make null values out of the incorrectly entered categories\n",
    "    conditions = ['Used', 'New', 'Open box', 'Seller refurbished',\n",
    "                  'For parts or not working', 'Manufacturer refurbished']\n",
    "    \n",
    "    X.loc[~X['Condition'].isin(conditions), 'Condition'] = np.nan\n",
    "    \n",
    "    # Combine columns that are obviously the same and where values are null\n",
    "    to_merge = {'Right-/ Left-Handed': ['Dexterity', 'Hand'],\n",
    "                'Country/Region of Manufacture': ['Country of Manufacture'], \n",
    "                'Body Color': ['Color'], 'Body Type': ['Type']}\n",
    "    for main_feat, dup_feat in to_merge.items():\n",
    "        for f in dup_feat:\n",
    "            condition = X[main_feat].isnull() & ~X[f].isnull()\n",
    "            X.loc[condition, main_feat] = X[f]\n",
    "            # Drop column after merge\n",
    "        X = X.drop(columns=dup_feat)\n",
    "    \n",
    "    # TODO: fix right and left hand\n",
    "    # Reduce categories in the right-/ left hand column\n",
    "    X['Right-/ Left-Handed'] = X['Right-/ Left-Handed'].str.replace(\n",
    "    '(right or left|left or right|either|lap|right-handed,).*', \n",
    "    'both')\n",
    "    X['Right-/ Left-Handed'] = X['Right-/ Left-Handed'].str.replace(\n",
    "    'r.*', 'right-handed')\n",
    "    X['Right-/ Left-Handed'] = X['Right-/ Left-Handed'].str.replace(\n",
    "    'l.*', 'left-handed')\n",
    "    \n",
    "    # Remove names that aren't real models from top 100\n",
    "    X['Model'] = X['Model'].str.upper()\n",
    "    not_a_model = ['DRN979CTV LH BK 2ND', '39\" ELECTRIC GUITAR', '2019',\n",
    "                   'DOES NOT APPLY', 'UNKNOWN', 'GTR235 LH BK 2ND']  \n",
    "    top_models = X['Model'].value_counts()[:model_limit].index\n",
    "    \n",
    "    X.loc[X['Model'].isin(not_a_model), 'Model'] = 'OTHER'\n",
    "    X.loc[~X['Model'].isin(top_models), 'Model'] = 'OTHER'\n",
    "    \n",
    "    # Clean and shrink the brand column\n",
    "    X['Brand'] = X['Brand'].str.upper()\n",
    "    X['Brand'] = X['Brand'].str.replace('UNBRANDED.*', 'UNBRANDED')\n",
    "    top_brands = X['Brand'].value_counts()[:brand_limit].index\n",
    "    X.loc[~X['Brand'].isin(top_brands), 'Brand'] = 'OTHER'\n",
    "    \n",
    "    # Clean and shrink cardinality of the string configuration column\n",
    "    standard_configs = ['6 STRING', '7 STRING', '8 STRING', '9 STRING', '12 STRING']\n",
    "    \n",
    "    X['String Configuration'] = X['String Configuration'].str.upper()\n",
    "    X['String Configuration'] = X['String Configuration'].str.replace(\n",
    "        '6\\W*STRING(?!78912).*|^6$|6\\s*\\w*\\s*STRINGS(?!78912)', '6 STRING')\n",
    "    X['String Configuration'] = X['String Configuration'].str.replace('^7$', '7 STRING')\n",
    "    X['String Configuration'] = X['String Configuration'].str.replace('12\\W*STRING', '12 STRING')\n",
    "    \n",
    "    X.loc[~X['String Configuration'].isin(standard_configs), 'String Configuration'] = 'OTHER'\n",
    "    \n",
    "    # Turn UPC and MPN into included and not included categories\n",
    "    X['UPC'] = X['UPC'].str.upper()\n",
    "    X.loc[X['UPC'] != 'DOES NOT APPLY', 'UPC'] = 'PROVIDED'\n",
    "    X.loc[X['UPC'] == 'DOES NOT APPLY', 'UPC'] = 'NOT AVAILABLE'\n",
    "    \n",
    "    # If MPN entry contains a digit, it can be considered a valid entry\n",
    "    mpn_condition = X['MPN'].str.contains('\\d')\n",
    "    X.loc[mpn_condition == True, 'MPN'] = 'PROVIDED'\n",
    "    X.loc[mpn_condition == False, 'MPN'] = 'NOT AVAILABLE'\n",
    "    \n",
    "    # Reduce size, color and material cardinality\n",
    "    features_limits = {'Body Color': color_limit,\n",
    "                       'Body Material': material_limit,\n",
    "                       'Size': size_limit}\n",
    "    \n",
    "    for feat, lim in features_limits.items(): # Apply the same wrangling to 3 features\n",
    "        X[feat] = X[feat].str.upper()\n",
    "        top = X[feat].value_counts()[:lim].index\n",
    "        X.loc[~X[feat].isin(top), feat] = 'OTHER'\n",
    "    \n",
    "    # Reduce body type cardinality\n",
    "    X['Body Type'] = X['Body Type'].str.upper()\n",
    "    top_btypes = X['Body Type'].value_counts().index[:btype_limit]\n",
    "    X['Body Type'].str.replace('STRAT.*', 'STRATOCASTER')\n",
    "    X.loc[~X['Body Type'].isin(top_btypes), 'Body Type'] = 'OTHER'\n",
    "    \n",
    "    # Make model year a numeric category\n",
    "    X.loc[X['Model Year'].str.contains('^\\d{4}$') == False, 'Model Year'] = np.nan\n",
    "    X['Model Year'] = pd.to_numeric(X['Model Year'])    \n",
    "    \n",
    "    return X"
   ]
  },
  {
   "cell_type": "code",
   "execution_count": 38,
   "metadata": {},
   "outputs": [],
   "source": [
    "# Split into train and test in preparation for cross-validation\n",
    "train, test = train_test_split(guitars, train_size=0.8, random_state=42)\n",
    "\n",
    "# Apply wrangling to train and test\n",
    "train = wrangle(train)\n",
    "test = wrangle(test)"
   ]
  },
  {
   "cell_type": "code",
   "execution_count": 39,
   "metadata": {},
   "outputs": [
    {
     "data": {
      "text/plain": [
       "((9956, 32), (2489, 32))"
      ]
     },
     "execution_count": 39,
     "metadata": {},
     "output_type": "execute_result"
    }
   ],
   "source": [
    "train.shape, test.shape"
   ]
  },
  {
   "cell_type": "code",
   "execution_count": 40,
   "metadata": {},
   "outputs": [],
   "source": [
    "# Arrange data into X_train and y_train for CV\n",
    "target = 'Price'\n",
    "features = ['Model', 'MPN', 'Body Color', 'Brand', \n",
    "            'UPC', 'Body Material', 'Body Type', \n",
    "            'Model Year', 'Size', 'Country/Region of Manufacture',\n",
    "            'String Configuration', 'Right-/ Left-Handed', 'Condition']\n",
    "X_train = train[features]\n",
    "y_train = train[target]"
   ]
  },
  {
   "cell_type": "code",
   "execution_count": null,
   "metadata": {},
   "outputs": [],
   "source": [
    "# Fit pipeline for transformation\n",
    "\n",
    "transformers = make_pipeline(\n",
    "    ce.OneHotEncoder(),\n",
    "    SimpleImputer()\n",
    ")\n"
   ]
  },
  {
   "cell_type": "code",
   "execution_count": 42,
   "metadata": {},
   "outputs": [
    {
     "data": {
      "text/plain": [
       "Right-Handed           7345\n",
       "Left-Handed             252\n",
       "Right                    64\n",
       "Right Handed             44\n",
       "RIGHT HANDED             11\n",
       "right-handed              7\n",
       "Right handed              7\n",
       "Left oright-handed        5\n",
       "Left                      4\n",
       "Right oright-handed       3\n",
       "RIGHT                     2\n",
       "Right Hand                2\n",
       "Left handed               2\n",
       "Left Handed               1\n",
       "Lap                       1\n",
       "Left-handed               1\n",
       "RIGHT OR LEFT             1\n",
       "Right  Handed             1\n",
       "Name: Right-/ Left-Handed, dtype: int64"
      ]
     },
     "execution_count": 42,
     "metadata": {},
     "output_type": "execute_result"
    }
   ],
   "source": [
    "X_train['Right-/ Left-Handed'].value_counts()"
   ]
  }
 ],
 "metadata": {
  "kernelspec": {
   "display_name": "Python 3",
   "language": "python",
   "name": "python3"
  },
  "language_info": {
   "codemirror_mode": {
    "name": "ipython",
    "version": 3
   },
   "file_extension": ".py",
   "mimetype": "text/x-python",
   "name": "python",
   "nbconvert_exporter": "python",
   "pygments_lexer": "ipython3",
   "version": "3.7.6"
  }
 },
 "nbformat": 4,
 "nbformat_minor": 4
}

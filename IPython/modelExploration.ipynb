{
 "cells": [
  {
   "cell_type": "markdown",
   "metadata": {},
   "source": [
    "# Experimenting with ML models\n",
    "In this notebook, I'm experimenting with a few different models, to see which might be the most favorable option"
   ]
  },
  {
   "cell_type": "code",
   "execution_count": 1,
   "metadata": {},
   "outputs": [],
   "source": [
    "import category_encoders as ce\n",
    "import matplotlib.pyplot as plt\n",
    "import numpy as np\n",
    "import pandas as pd\n",
    "from sklearn.impute import SimpleImputer\n",
    "from sklearn.model_selection import train_test_split, cross_val_score\n",
    "from sklearn.linear_model import LinearRegression\n",
    "from sklearn.ensemble import RandomForestRegressor\n",
    "from sklearn.pipeline import make_pipeline\n",
    "from sklearn.preprocessing import StandardScaler\n",
    "from sklearn.feature_selection import f_regression, SelectKBest"
   ]
  },
  {
   "cell_type": "code",
   "execution_count": 97,
   "metadata": {},
   "outputs": [],
   "source": [
    "# Read in data\n",
    "path = '../data/guitars.csv'\n",
    "guitars = pd.read_csv(path)"
   ]
  },
  {
   "cell_type": "code",
   "execution_count": 98,
   "metadata": {},
   "outputs": [],
   "source": [
    "# Remove crazy outliers above $10,000\n",
    "guitars = guitars.drop(index=guitars.loc[guitars['Price'] > 9999.99].index)"
   ]
  },
  {
   "cell_type": "code",
   "execution_count": 83,
   "metadata": {},
   "outputs": [],
   "source": [
    "def wrangle(X):\n",
    "    '''Bulk wrangle for split data'''\n",
    "    \n",
    "    # Avoid setting with copy\n",
    "    X = X.copy()\n",
    "    \n",
    "    # Set feature thresholds\n",
    "    model_limit = 50\n",
    "    brand_limit = 50\n",
    "    color_limit = 100\n",
    "    material_limit = 50\n",
    "    btype_limit = 30\n",
    "    size_limit = 10\n",
    "    pline_limit = 50\n",
    "    \n",
    "    # Clean conditions column text\n",
    "    X['Condition'] = X['Condition'].str.replace('\\:\\D+', '')\n",
    "    \n",
    "    # Make null values out of the incorrectly entered categories\n",
    "    conditions = ['Used', 'New', 'Open box', 'Seller refurbished',\n",
    "                  'For parts or not working', 'Manufacturer refurbished']\n",
    "    \n",
    "    X.loc[~X['Condition'].isin(conditions), 'Condition'] = np.nan\n",
    "    \n",
    "    # Combine columns that are obviously the same and where values are null\n",
    "    to_merge = {'Right-/ Left-Handed': ['Dexterity', 'Hand'],\n",
    "                'Country/Region of Manufacture': ['Country of Manufacture'], \n",
    "                'Body Color': ['Color'], 'Body Type': ['Type']}\n",
    "    for main_feat, dup_feat in to_merge.items():\n",
    "        for f in dup_feat:\n",
    "            condition = X[main_feat].isnull() & ~X[f].isnull()\n",
    "            X.loc[condition, main_feat] = X[f]\n",
    "            # Drop column after merge\n",
    "        X = X.drop(columns=dup_feat)\n",
    "    \n",
    "    # TODO: fix right-left hand business\n",
    "    # Reduce categories in the right-/ left hand column\n",
    "    X['Orientation'] = X['Right-/ Left-Handed'].str.upper()\n",
    "    X['Orientation'] = X['Orientation'].str.replace(\n",
    "        '(RIGHT OR LEFT|LEFT OR RIGHT|EITHER|LAP|RIGHT-HANDED,).*', \n",
    "        'BOTH')\n",
    "    X['Orientation'] = X['Orientation'].str.replace(\n",
    "        'R.*', 'RIGHT-HANDED')\n",
    "    X['Orientation'] = X['Orientation'].str.replace(\n",
    "        'L.*', 'LEFT-HANDED')\n",
    "    \n",
    "    # Remove names that aren't real models from top 100\n",
    "    X['Model'] = X['Model'].str.upper()\n",
    "    not_a_model = ['DRN979CTV LH BK 2ND', '39\" ELECTRIC GUITAR', '2019',\n",
    "                   'DOES NOT APPLY', 'UNKNOWN', 'GTR235 LH BK 2ND']  \n",
    "    top_models = X['Model'].value_counts()[:model_limit].index\n",
    "    \n",
    "    X.loc[X['Model'].isin(not_a_model), 'Model'] = 'OTHER'\n",
    "    X.loc[~X['Model'].isin(top_models), 'Model'] = 'OTHER'\n",
    "    \n",
    "    # Clean and shrink the brand column\n",
    "    X['Brand'] = X['Brand'].str.upper()\n",
    "    X['Brand'] = X['Brand'].str.replace('UNBRANDED.*', 'UNBRANDED')\n",
    "    top_brands = X['Brand'].value_counts()[:brand_limit].index\n",
    "    X.loc[~X['Brand'].isin(top_brands), 'Brand'] = 'OTHER'\n",
    "    \n",
    "    # Clean and shrink cardinality of the string configuration column\n",
    "    standard_configs = ['6 STRING', '7 STRING', '8 STRING', '9 STRING', '12 STRING']\n",
    "    \n",
    "    X['String Configuration'] = X['String Configuration'].str.upper()\n",
    "    X['String Configuration'] = X['String Configuration'].str.replace(\n",
    "        '6\\W*STRING(?!78912).*|^6$|6\\s*\\w*\\s*STRINGS(?!78912)', '6 STRING')\n",
    "    X['String Configuration'] = X['String Configuration'].str.replace('^7$', '7 STRING')\n",
    "    X['String Configuration'] = X['String Configuration'].str.replace('12\\W*STRING', '12 STRING')\n",
    "    \n",
    "    X.loc[~X['String Configuration'].isin(standard_configs), 'String Configuration'] = 'OTHER'\n",
    "    \n",
    "    # Turn UPC and MPN into included and not included categories\n",
    "    X['UPC'] = X['UPC'].str.upper()\n",
    "    X.loc[X['UPC'] != 'DOES NOT APPLY', 'UPC'] = 'PROVIDED'\n",
    "    X.loc[X['UPC'] == 'DOES NOT APPLY', 'UPC'] = 'NOT AVAILABLE'\n",
    "    \n",
    "    # If MPN entry contains a digit, it can be considered a valid entry\n",
    "    mpn_condition = X['MPN'].str.contains('\\d')\n",
    "    X.loc[mpn_condition == True, 'MPN'] = 'PROVIDED'\n",
    "    X.loc[mpn_condition == False, 'MPN'] = 'NOT AVAILABLE'\n",
    "    \n",
    "    # Reduce size, color and material and product line cardinality\n",
    "    features_limits = {'Body Color': color_limit,\n",
    "                       'Body Material': material_limit,\n",
    "                       'Size': size_limit,\n",
    "                       'Product Line': pline_limit}\n",
    "    \n",
    "    for feat, lim in features_limits.items(): # Apply the same wrangling to 3 features\n",
    "        X[feat] = X[feat].str.upper()\n",
    "        top = X[feat].value_counts()[:lim].index\n",
    "        X.loc[~X[feat].isin(top), feat] = 'OTHER'\n",
    "    \n",
    "    # Reduce body type cardinality\n",
    "    X['Body Type'] = X['Body Type'].str.upper()\n",
    "    top_btypes = X['Body Type'].value_counts().index[:btype_limit]\n",
    "    X['Body Type'].str.replace('STRAT.*', 'STRATOCASTER')\n",
    "    X.loc[~X['Body Type'].isin(top_btypes), 'Body Type'] = 'OTHER'\n",
    "    \n",
    "    # Make model year a numeric category\n",
    "    X.loc[X['Model Year'].str.contains('^\\d{4}$') == False, 'Model Year'] = np.nan\n",
    "    X['Model Year'] = pd.to_numeric(X['Model Year'])    \n",
    "    \n",
    "    return X"
   ]
  },
  {
   "cell_type": "markdown",
   "metadata": {},
   "source": [
    "### Beginning With a Baseline\n",
    "The mean absolute error produced by guessing will help to establish a baseline to begin improving upon. What is the mean absolute error produced by predicting the mean price for every sample"
   ]
  },
  {
   "cell_type": "code",
   "execution_count": 51,
   "metadata": {},
   "outputs": [
    {
     "name": "stdout",
     "output_type": "stream",
     "text": [
      "Mean Absolute Error: $505.91\n"
     ]
    }
   ],
   "source": [
    "# Start with a baseline\n",
    "error = guitars['Price'] - guitars['Price'].mean()\n",
    "mae = error.abs().mean()\n",
    "print(f'Mean Absolute Error: ${mae:.2f}')"
   ]
  },
  {
   "cell_type": "markdown",
   "metadata": {},
   "source": [
    "Off by $500 isn't terrible, but for some guitar sales on eBay, that may be completely off the mark, like in the case of guitars sold for ridiculously low prices, i.e. for parts or not working."
   ]
  },
  {
   "cell_type": "markdown",
   "metadata": {},
   "source": [
    "### Exploring ML models\n",
    "Just for comparison's sake, I'm exploring the error produced by a few regression techniques with default parameters. "
   ]
  },
  {
   "cell_type": "code",
   "execution_count": 99,
   "metadata": {},
   "outputs": [],
   "source": [
    "# Split into train and test in preparation for cross-validation\n",
    "train, test = train_test_split(guitars, train_size=0.8, random_state=42)\n",
    "\n",
    "# Apply wrangling to train and test\n",
    "train = wrangle(train)\n",
    "test = wrangle(test)"
   ]
  },
  {
   "cell_type": "code",
   "execution_count": 100,
   "metadata": {},
   "outputs": [
    {
     "data": {
      "text/plain": [
       "((9956, 33), (2489, 33))"
      ]
     },
     "execution_count": 100,
     "metadata": {},
     "output_type": "execute_result"
    }
   ],
   "source": [
    "train.shape, test.shape"
   ]
  },
  {
   "cell_type": "code",
   "execution_count": 101,
   "metadata": {},
   "outputs": [],
   "source": [
    "# Arrange data into X_train and y_train for CV\n",
    "target = 'Price'\n",
    "features = ['Model', 'MPN', 'Body Color', 'Brand', \n",
    "            'UPC', 'Body Material', 'Body Type', \n",
    "            'Model Year', 'Size', 'Country/Region of Manufacture',\n",
    "            'String Configuration', 'Orientation', \n",
    "            'Product Line','Condition']\n",
    "X_train = train[features]\n",
    "y_train = train[target]\n",
    "X_test = test[features]\n",
    "y_test = test[target]"
   ]
  },
  {
   "cell_type": "code",
   "execution_count": 87,
   "metadata": {},
   "outputs": [
    {
     "name": "stdout",
     "output_type": "stream",
     "text": [
      "MAE for 3 folds: [399.66323671 424.92608286 416.1146166 ]\n",
      "Mean of 3 scores: 413.5679787250571\n"
     ]
    }
   ],
   "source": [
    "# Fit pipeline for a basic Linear Regression, get cross validated erro\n",
    "\n",
    "pipeline = make_pipeline(\n",
    "    ce.OneHotEncoder(),\n",
    "    SimpleImputer(),\n",
    "    StandardScaler(),\n",
    "    SelectKBest(f_regression, k=40),\n",
    "    LinearRegression()\n",
    ")\n",
    "\n",
    "k=3\n",
    "scores = cross_val_score(pipeline, X_train, y_train, cv=k,\n",
    "                         scoring='neg_mean_absolute_error')\n",
    "print(f'MAE for {k} folds:', -scores)\n",
    "print(f'Mean of {k} scores:', -scores.mean())"
   ]
  },
  {
   "cell_type": "markdown",
   "metadata": {},
   "source": [
    "An error of ~$400 is better than guessing, but not by enough. How does the error look with a random forest regressor?"
   ]
  },
  {
   "cell_type": "code",
   "execution_count": 88,
   "metadata": {},
   "outputs": [
    {
     "name": "stdout",
     "output_type": "stream",
     "text": [
      "MAE for 5 folds: [292.82698315 323.60989948 336.87559167 312.69605078 305.17250817]\n",
      "Mean of 5 scores: 314.23620665042574\n"
     ]
    }
   ],
   "source": [
    "# Fit pipeline for a random forest regressor, get cross validated error\n",
    "\n",
    "pipeline = make_pipeline(\n",
    "    ce.OneHotEncoder(),\n",
    "    SimpleImputer(),\n",
    "    RandomForestRegressor(n_estimators=100, n_jobs=-1, random_state=42)\n",
    ")\n",
    "\n",
    "k=5\n",
    "scores = cross_val_score(pipeline, X_train, y_train, cv=k,\n",
    "                         scoring='neg_mean_absolute_error')\n",
    "print(f'MAE for {k} folds:', -scores)\n",
    "print(f'Mean of {k} scores:', -scores.mean())"
   ]
  },
  {
   "cell_type": "markdown",
   "metadata": {},
   "source": [
    "~$300 gets even closer, but it's likely that things can be done to get even closer still, without overfitting the data. The price column is heavily right skewed, so there is some log transformation in order."
   ]
  },
  {
   "cell_type": "code",
   "execution_count": 10,
   "metadata": {},
   "outputs": [
    {
     "data": {
      "image/png": "[encoded data removed]",
      "text/plain": [
       "<Figure size 432x288 with 1 Axes>"
      ]
     },
     "metadata": {
      "needs_background": "light"
     },
     "output_type": "display_data"
    }
   ],
   "source": [
    "# Visualize skew in price\n",
    "import seaborn as sns\n",
    "sns.distplot(y_train);"
   ]
  },
  {
   "cell_type": "markdown",
   "metadata": {},
   "source": [
    "### Log Transformation\n",
    "If I log transorm the price, the distribution looks a little more normal"
   ]
  },
  {
   "cell_type": "code",
   "execution_count": 92,
   "metadata": {},
   "outputs": [
    {
     "data": {
      "image/png": "[encoded data removed]",
      "text/plain": [
       "<Figure size 432x288 with 1 Axes>"
      ]
     },
     "metadata": {
      "needs_background": "light"
     },
     "output_type": "display_data"
    }
   ],
   "source": [
    "y_log = np.log1p(y_train)\n",
    "sns.distplot(y_log);"
   ]
  },
  {
   "cell_type": "markdown",
   "metadata": {},
   "source": [
    "Does the baseline error improve after this transformation?"
   ]
  },
  {
   "cell_type": "code",
   "execution_count": 93,
   "metadata": {},
   "outputs": [
    {
     "name": "stdout",
     "output_type": "stream",
     "text": [
      "Mean Absolute Error of Log Transformed y: $1.36\n"
     ]
    }
   ],
   "source": [
    "error = y_log - y_log.mean()\n",
    "mae_transformed = error.abs().mean()\n",
    "\n",
    "# Untransform mae\n",
    "mae = np.expm1(mae_transformed)\n",
    "print(f'Mean Absolute Error of Log Transformed y: ${mae:.2f}')"
   ]
  },
  {
   "cell_type": "markdown",
   "metadata": {},
   "source": [
    "After transformation, the baseline gets down to less than $2 of error. Does that mean that the models tried before will do much better than before with a log transformed price?"
   ]
  },
  {
   "cell_type": "code",
   "execution_count": 94,
   "metadata": {},
   "outputs": [
    {
     "name": "stdout",
     "output_type": "stream",
     "text": [
      "MAE for 3 folds: [0.4594415  0.47395378 0.46821541]\n",
      "Mean of 3 scores: 0.4672035637421595\n"
     ]
    }
   ],
   "source": [
    "# Fit pipeline for a basic Linear Regression, get cross validated erro\n",
    "\n",
    "pipeline = make_pipeline(\n",
    "    ce.OneHotEncoder(),\n",
    "    SimpleImputer(),\n",
    "    StandardScaler(),\n",
    "    SelectKBest(f_regression, k=40),\n",
    "    LinearRegression()\n",
    ")\n",
    "\n",
    "k=3\n",
    "scores = cross_val_score(pipeline, X_train, y_log, cv=k,\n",
    "                         scoring='neg_mean_absolute_error')\n",
    "scores_untransformed = np.expm1(scores)\n",
    "print(f'MAE for {k} folds:', -scores_untransformed)\n",
    "print(f'Mean of {k} scores:', -scores_untransformed.mean())"
   ]
  },
  {
   "cell_type": "markdown",
   "metadata": {},
   "source": [
    "Now the linear regression model's error is down below $1"
   ]
  },
  {
   "cell_type": "code",
   "execution_count": 95,
   "metadata": {},
   "outputs": [
    {
     "name": "stdout",
     "output_type": "stream",
     "text": [
      "MAE for 5 folds: [0.38653353 0.38874631 0.37980542 0.39411032 0.38616535]\n",
      "Mean of 5 scores: 0.3870721859074081\n"
     ]
    }
   ],
   "source": [
    "# Fit pipeline for a random forest regressor, get cross validated error\n",
    "\n",
    "pipeline = make_pipeline(\n",
    "    ce.OneHotEncoder(),\n",
    "    SimpleImputer(),\n",
    "    RandomForestRegressor(n_estimators=100, n_jobs=-1, random_state=42)\n",
    ")\n",
    "\n",
    "k=5\n",
    "scores = cross_val_score(pipeline, X_train, y_log, cv=k,\n",
    "                         scoring='neg_mean_absolute_error')\n",
    "scores_untransformed = np.expm1(scores)\n",
    "print(f'MAE for {k} folds:', -scores_untransformed)\n",
    "print(f'Mean of {k} scores:', -scores_untransformed.mean())"
   ]
  },
  {
   "cell_type": "markdown",
   "metadata": {},
   "source": [
    "With a random forest regressor, the error lies below 40 cents"
   ]
  },
  {
   "cell_type": "markdown",
   "metadata": {},
   "source": [
    "### XGBoost and Permutation Importance"
   ]
  },
  {
   "cell_type": "code",
   "execution_count": 107,
   "metadata": {},
   "outputs": [],
   "source": [
    "from xgboost import XGBRegressor\n",
    "import eli5\n",
    "from eli5.sklearn import PermutationImportance"
   ]
  },
  {
   "cell_type": "code",
   "execution_count": 102,
   "metadata": {},
   "outputs": [
    {
     "data": {
      "text/plain": [
       "((7964, 33), (1992, 33))"
      ]
     },
     "execution_count": 102,
     "metadata": {},
     "output_type": "execute_result"
    }
   ],
   "source": [
    "# Split again into train and validation set for permutation importances\n",
    "train, val = train_test_split(train, train_size=0.8, random_state=42)\n",
    "\n",
    "X_train = train[features]\n",
    "y_train = train[target]\n",
    "X_val = val[features]\n",
    "y_val = val[target]\n",
    "\n",
    "train.shape, val.shape"
   ]
  },
  {
   "cell_type": "markdown",
   "metadata": {},
   "source": [
    "In the random forest model, what were the most important features? To answer this question, I'll use a permutation importance visualization to display the weight of each feature"
   ]
  },
  {
   "cell_type": "code",
   "execution_count": 103,
   "metadata": {},
   "outputs": [
    {
     "data": {
      "text/plain": [
       "RandomForestRegressor(bootstrap=True, ccp_alpha=0.0, criterion='mse',\n",
       "                      max_depth=None, max_features='auto', max_leaf_nodes=None,\n",
       "                      max_samples=None, min_impurity_decrease=0.0,\n",
       "                      min_impurity_split=None, min_samples_leaf=1,\n",
       "                      min_samples_split=2, min_weight_fraction_leaf=0.0,\n",
       "                      n_estimators=100, n_jobs=-1, oob_score=False,\n",
       "                      random_state=42, verbose=0, warm_start=False)"
      ]
     },
     "execution_count": 103,
     "metadata": {},
     "output_type": "execute_result"
    }
   ],
   "source": [
    "# Use pipeline for transformers only\n",
    "transformers = make_pipeline(\n",
    "    ce.TargetEncoder(),\n",
    "    SimpleImputer(),\n",
    ")\n",
    "\n",
    "# Log Transform y_train and y_val\n",
    "y_train_log = np.log1p(y_train)\n",
    "y_val_log = np.log1p(y_val)\n",
    "X_train_transformed = transformers.fit_transform(X_train, y_train_log)\n",
    "X_val_transformed = transformers.transform(X_val)\n",
    "\n",
    "model = RandomForestRegressor(n_estimators=100, random_state=42, n_jobs=-1)\n",
    "# Fit the model to the transformed X_train and y_log\n",
    "model.fit(X_train_transformed, y_train_log)"
   ]
  },
  {
   "cell_type": "code",
   "execution_count": 104,
   "metadata": {},
   "outputs": [
    {
     "name": "stdout",
     "output_type": "stream",
     "text": [
      "CPU times: user 6.29 s, sys: 788 ms, total: 7.08 s\n",
      "Wall time: 7.67 s\n"
     ]
    },
    {
     "data": {
      "text/plain": [
       "PermutationImportance(cv='prefit',\n",
       "                      estimator=RandomForestRegressor(bootstrap=True,\n",
       "                                                      ccp_alpha=0.0,\n",
       "                                                      criterion='mse',\n",
       "                                                      max_depth=None,\n",
       "                                                      max_features='auto',\n",
       "                                                      max_leaf_nodes=None,\n",
       "                                                      max_samples=None,\n",
       "                                                      min_impurity_decrease=0.0,\n",
       "                                                      min_impurity_split=None,\n",
       "                                                      min_samples_leaf=1,\n",
       "                                                      min_samples_split=2,\n",
       "                                                      min_weight_fraction_leaf=0.0,\n",
       "                                                      n_estimators=100,\n",
       "                                                      n_jobs=-1,\n",
       "                                                      oob_score=False,\n",
       "                                                      random_state=42,\n",
       "                                                      verbose=0,\n",
       "                                                      warm_start=False),\n",
       "                      n_iter=5, random_state=42, refit=True,\n",
       "                      scoring='neg_mean_absolute_error')"
      ]
     },
     "execution_count": 104,
     "metadata": {},
     "output_type": "execute_result"
    }
   ],
   "source": [
    "%%time\n",
    "# Calculate permutation importance\n",
    "permuter = PermutationImportance(\n",
    "    model,\n",
    "    scoring='neg_mean_absolute_error',\n",
    "    n_iter=5,\n",
    "    random_state=42\n",
    ")\n",
    "permuter.fit(X_val_transformed, y_val_log)"
   ]
  },
  {
   "cell_type": "code",
   "execution_count": 105,
   "metadata": {},
   "outputs": [
    {
     "data": {
      "text/html": [
       "\n",
       "    <style>\n",
       "    table.eli5-weights tr:hover {\n",
       "        filter: brightness(85%);\n",
       "    }\n",
       "</style>\n",
       "\n",
       "\n",
       "\n",
       "    \n",
       "\n",
       "    \n",
       "\n",
       "    \n",
       "\n",
       "    \n",
       "\n",
       "    \n",
       "\n",
       "    \n",
       "\n",
       "\n",
       "    \n",
       "\n",
       "    \n",
       "\n",
       "    \n",
       "\n",
       "    \n",
       "\n",
       "    \n",
       "\n",
       "    \n",
       "\n",
       "\n",
       "    \n",
       "\n",
       "    \n",
       "\n",
       "    \n",
       "\n",
       "    \n",
       "\n",
       "    \n",
       "        <table class=\"eli5-weights eli5-feature-importances\" style=\"border-collapse: collapse; border: none; margin-top: 0em; table-layout: auto;\">\n",
       "    <thead>\n",
       "    <tr style=\"border: none;\">\n",
       "        <th style=\"padding: 0 1em 0 0.5em; text-align: right; border: none;\">Weight</th>\n",
       "        <th style=\"padding: 0 0.5em 0 0.5em; text-align: left; border: none;\">Feature</th>\n",
       "    </tr>\n",
       "    </thead>\n",
       "    <tbody>\n",
       "    \n",
       "        <tr style=\"background-color: hsl(120, 100.00%, 80.00%); border: none;\">\n",
       "            <td style=\"padding: 0 1em 0 0.5em; text-align: right; border: none;\">\n",
       "                0.2654\n",
       "                \n",
       "                    &plusmn; 0.0102\n",
       "                \n",
       "            </td>\n",
       "            <td style=\"padding: 0 0.5em 0 0.5em; text-align: left; border: none;\">\n",
       "                Brand\n",
       "            </td>\n",
       "        </tr>\n",
       "    \n",
       "        <tr style=\"background-color: hsl(120, 100.00%, 85.38%); border: none;\">\n",
       "            <td style=\"padding: 0 1em 0 0.5em; text-align: right; border: none;\">\n",
       "                0.1696\n",
       "                \n",
       "                    &plusmn; 0.0094\n",
       "                \n",
       "            </td>\n",
       "            <td style=\"padding: 0 0.5em 0 0.5em; text-align: left; border: none;\">\n",
       "                Country/Region of Manufacture\n",
       "            </td>\n",
       "        </tr>\n",
       "    \n",
       "        <tr style=\"background-color: hsl(120, 100.00%, 92.61%); border: none;\">\n",
       "            <td style=\"padding: 0 1em 0 0.5em; text-align: right; border: none;\">\n",
       "                0.0640\n",
       "                \n",
       "                    &plusmn; 0.0141\n",
       "                \n",
       "            </td>\n",
       "            <td style=\"padding: 0 0.5em 0 0.5em; text-align: left; border: none;\">\n",
       "                Body Color\n",
       "            </td>\n",
       "        </tr>\n",
       "    \n",
       "        <tr style=\"background-color: hsl(120, 100.00%, 93.74%); border: none;\">\n",
       "            <td style=\"padding: 0 1em 0 0.5em; text-align: right; border: none;\">\n",
       "                0.0505\n",
       "                \n",
       "                    &plusmn; 0.0055\n",
       "                \n",
       "            </td>\n",
       "            <td style=\"padding: 0 0.5em 0 0.5em; text-align: left; border: none;\">\n",
       "                Product Line\n",
       "            </td>\n",
       "        </tr>\n",
       "    \n",
       "        <tr style=\"background-color: hsl(120, 100.00%, 93.86%); border: none;\">\n",
       "            <td style=\"padding: 0 1em 0 0.5em; text-align: right; border: none;\">\n",
       "                0.0491\n",
       "                \n",
       "                    &plusmn; 0.0087\n",
       "                \n",
       "            </td>\n",
       "            <td style=\"padding: 0 0.5em 0 0.5em; text-align: left; border: none;\">\n",
       "                Model Year\n",
       "            </td>\n",
       "        </tr>\n",
       "    \n",
       "        <tr style=\"background-color: hsl(120, 100.00%, 94.75%); border: none;\">\n",
       "            <td style=\"padding: 0 1em 0 0.5em; text-align: right; border: none;\">\n",
       "                0.0393\n",
       "                \n",
       "                    &plusmn; 0.0058\n",
       "                \n",
       "            </td>\n",
       "            <td style=\"padding: 0 0.5em 0 0.5em; text-align: left; border: none;\">\n",
       "                Body Material\n",
       "            </td>\n",
       "        </tr>\n",
       "    \n",
       "        <tr style=\"background-color: hsl(120, 100.00%, 94.96%); border: none;\">\n",
       "            <td style=\"padding: 0 1em 0 0.5em; text-align: right; border: none;\">\n",
       "                0.0370\n",
       "                \n",
       "                    &plusmn; 0.0079\n",
       "                \n",
       "            </td>\n",
       "            <td style=\"padding: 0 0.5em 0 0.5em; text-align: left; border: none;\">\n",
       "                Body Type\n",
       "            </td>\n",
       "        </tr>\n",
       "    \n",
       "        <tr style=\"background-color: hsl(120, 100.00%, 95.07%); border: none;\">\n",
       "            <td style=\"padding: 0 1em 0 0.5em; text-align: right; border: none;\">\n",
       "                0.0359\n",
       "                \n",
       "                    &plusmn; 0.0065\n",
       "                \n",
       "            </td>\n",
       "            <td style=\"padding: 0 0.5em 0 0.5em; text-align: left; border: none;\">\n",
       "                Condition\n",
       "            </td>\n",
       "        </tr>\n",
       "    \n",
       "        <tr style=\"background-color: hsl(120, 100.00%, 95.79%); border: none;\">\n",
       "            <td style=\"padding: 0 1em 0 0.5em; text-align: right; border: none;\">\n",
       "                0.0286\n",
       "                \n",
       "                    &plusmn; 0.0021\n",
       "                \n",
       "            </td>\n",
       "            <td style=\"padding: 0 0.5em 0 0.5em; text-align: left; border: none;\">\n",
       "                MPN\n",
       "            </td>\n",
       "        </tr>\n",
       "    \n",
       "        <tr style=\"background-color: hsl(120, 100.00%, 95.88%); border: none;\">\n",
       "            <td style=\"padding: 0 1em 0 0.5em; text-align: right; border: none;\">\n",
       "                0.0278\n",
       "                \n",
       "                    &plusmn; 0.0040\n",
       "                \n",
       "            </td>\n",
       "            <td style=\"padding: 0 0.5em 0 0.5em; text-align: left; border: none;\">\n",
       "                Size\n",
       "            </td>\n",
       "        </tr>\n",
       "    \n",
       "        <tr style=\"background-color: hsl(120, 100.00%, 96.16%); border: none;\">\n",
       "            <td style=\"padding: 0 1em 0 0.5em; text-align: right; border: none;\">\n",
       "                0.0251\n",
       "                \n",
       "                    &plusmn; 0.0047\n",
       "                \n",
       "            </td>\n",
       "            <td style=\"padding: 0 0.5em 0 0.5em; text-align: left; border: none;\">\n",
       "                Model\n",
       "            </td>\n",
       "        </tr>\n",
       "    \n",
       "        <tr style=\"background-color: hsl(120, 100.00%, 97.27%); border: none;\">\n",
       "            <td style=\"padding: 0 1em 0 0.5em; text-align: right; border: none;\">\n",
       "                0.0154\n",
       "                \n",
       "                    &plusmn; 0.0021\n",
       "                \n",
       "            </td>\n",
       "            <td style=\"padding: 0 0.5em 0 0.5em; text-align: left; border: none;\">\n",
       "                String Configuration\n",
       "            </td>\n",
       "        </tr>\n",
       "    \n",
       "        <tr style=\"background-color: hsl(120, 100.00%, 97.31%); border: none;\">\n",
       "            <td style=\"padding: 0 1em 0 0.5em; text-align: right; border: none;\">\n",
       "                0.0151\n",
       "                \n",
       "                    &plusmn; 0.0013\n",
       "                \n",
       "            </td>\n",
       "            <td style=\"padding: 0 0.5em 0 0.5em; text-align: left; border: none;\">\n",
       "                UPC\n",
       "            </td>\n",
       "        </tr>\n",
       "    \n",
       "        <tr style=\"background-color: hsl(120, 100.00%, 97.48%); border: none;\">\n",
       "            <td style=\"padding: 0 1em 0 0.5em; text-align: right; border: none;\">\n",
       "                0.0137\n",
       "                \n",
       "                    &plusmn; 0.0047\n",
       "                \n",
       "            </td>\n",
       "            <td style=\"padding: 0 0.5em 0 0.5em; text-align: left; border: none;\">\n",
       "                Orientation\n",
       "            </td>\n",
       "        </tr>\n",
       "    \n",
       "    \n",
       "    </tbody>\n",
       "</table>\n",
       "    \n",
       "\n",
       "    \n",
       "\n",
       "\n",
       "    \n",
       "\n",
       "    \n",
       "\n",
       "    \n",
       "\n",
       "    \n",
       "\n",
       "    \n",
       "\n",
       "    \n",
       "\n",
       "\n",
       "\n"
      ],
      "text/plain": [
       "<IPython.core.display.HTML object>"
      ]
     },
     "execution_count": 105,
     "metadata": {},
     "output_type": "execute_result"
    }
   ],
   "source": [
    "# Display permutation importances\n",
    "feature_names = X_val.columns.tolist()\n",
    "eli5.show_weights(\n",
    "    permuter,\n",
    "    top=None,\n",
    "    feature_names=feature_names# Show all\n",
    ")"
   ]
  },
  {
   "cell_type": "markdown",
   "metadata": {},
   "source": [
    "It Looks like all the features I had previously chosen have an considerable effect on price, namely Brand and Country/Region of Manufacture"
   ]
  },
  {
   "cell_type": "code",
   "execution_count": 129,
   "metadata": {},
   "outputs": [
    {
     "name": "stdout",
     "output_type": "stream",
     "text": [
      "[18:18:48] WARNING: src/objective/regression_obj.cu:152: reg:linear is now deprecated in favor of reg:squarederror.\n",
      "[0]\tvalidation_0-mae:2.7192\tvalidation_1-mae:2.70726\n",
      "Multiple eval metrics have been passed: 'validation_1-mae' will be used for early stopping.\n",
      "\n",
      "Will train until validation_1-mae hasn't improved in 100 rounds.\n",
      "[1]\tvalidation_0-mae:1.40518\tvalidation_1-mae:1.40405\n",
      "[2]\tvalidation_0-mae:0.80525\tvalidation_1-mae:0.837536\n",
      "[3]\tvalidation_0-mae:0.531355\tvalidation_1-mae:0.625026\n",
      "[4]\tvalidation_0-mae:0.406146\tvalidation_1-mae:0.547118\n"
     ]
    },
    {
     "name": "stderr",
     "output_type": "stream",
     "text": [
      "/Users/josemarquez/anaconda3/lib/python3.7/site-packages/xgboost/core.py:587: FutureWarning: Series.base is deprecated and will be removed in a future version\n",
      "  if getattr(data, 'base', None) is not None and \\\n"
     ]
    },
    {
     "name": "stdout",
     "output_type": "stream",
     "text": [
      "[5]\tvalidation_0-mae:0.343097\tvalidation_1-mae:0.521418\n",
      "[6]\tvalidation_0-mae:0.306695\tvalidation_1-mae:0.514169\n",
      "[7]\tvalidation_0-mae:0.282287\tvalidation_1-mae:0.513507\n",
      "[8]\tvalidation_0-mae:0.268371\tvalidation_1-mae:0.511799\n",
      "[9]\tvalidation_0-mae:0.246633\tvalidation_1-mae:0.508729\n",
      "[10]\tvalidation_0-mae:0.234228\tvalidation_1-mae:0.506593\n",
      "[11]\tvalidation_0-mae:0.223106\tvalidation_1-mae:0.505023\n",
      "[12]\tvalidation_0-mae:0.216661\tvalidation_1-mae:0.504512\n",
      "[13]\tvalidation_0-mae:0.202302\tvalidation_1-mae:0.50122\n",
      "[14]\tvalidation_0-mae:0.178663\tvalidation_1-mae:0.498511\n",
      "[15]\tvalidation_0-mae:0.165482\tvalidation_1-mae:0.499053\n",
      "[16]\tvalidation_0-mae:0.158745\tvalidation_1-mae:0.498571\n",
      "[17]\tvalidation_0-mae:0.152963\tvalidation_1-mae:0.497916\n",
      "[18]\tvalidation_0-mae:0.150241\tvalidation_1-mae:0.497778\n",
      "[19]\tvalidation_0-mae:0.141787\tvalidation_1-mae:0.498261\n",
      "[20]\tvalidation_0-mae:0.137316\tvalidation_1-mae:0.498146\n",
      "[21]\tvalidation_0-mae:0.135772\tvalidation_1-mae:0.498369\n",
      "[22]\tvalidation_0-mae:0.132467\tvalidation_1-mae:0.497813\n",
      "[23]\tvalidation_0-mae:0.125281\tvalidation_1-mae:0.496781\n",
      "[24]\tvalidation_0-mae:0.123693\tvalidation_1-mae:0.496325\n",
      "[25]\tvalidation_0-mae:0.121309\tvalidation_1-mae:0.496295\n",
      "[26]\tvalidation_0-mae:0.118993\tvalidation_1-mae:0.496628\n",
      "[27]\tvalidation_0-mae:0.113612\tvalidation_1-mae:0.496136\n",
      "[28]\tvalidation_0-mae:0.11105\tvalidation_1-mae:0.496834\n",
      "[29]\tvalidation_0-mae:0.108976\tvalidation_1-mae:0.497942\n",
      "[30]\tvalidation_0-mae:0.107232\tvalidation_1-mae:0.497905\n",
      "[31]\tvalidation_0-mae:0.106017\tvalidation_1-mae:0.498484\n",
      "[32]\tvalidation_0-mae:0.104578\tvalidation_1-mae:0.498889\n",
      "[33]\tvalidation_0-mae:0.103917\tvalidation_1-mae:0.498846\n",
      "[34]\tvalidation_0-mae:0.102441\tvalidation_1-mae:0.499192\n",
      "[35]\tvalidation_0-mae:0.100179\tvalidation_1-mae:0.499485\n",
      "[36]\tvalidation_0-mae:0.097844\tvalidation_1-mae:0.499987\n",
      "[37]\tvalidation_0-mae:0.095471\tvalidation_1-mae:0.499852\n",
      "[38]\tvalidation_0-mae:0.094708\tvalidation_1-mae:0.499845\n",
      "[39]\tvalidation_0-mae:0.093901\tvalidation_1-mae:0.499783\n",
      "[40]\tvalidation_0-mae:0.093075\tvalidation_1-mae:0.499999\n",
      "[41]\tvalidation_0-mae:0.090089\tvalidation_1-mae:0.501173\n",
      "[42]\tvalidation_0-mae:0.08821\tvalidation_1-mae:0.501802\n",
      "[43]\tvalidation_0-mae:0.087206\tvalidation_1-mae:0.502016\n",
      "[44]\tvalidation_0-mae:0.086611\tvalidation_1-mae:0.501984\n",
      "[45]\tvalidation_0-mae:0.086236\tvalidation_1-mae:0.502101\n",
      "[46]\tvalidation_0-mae:0.086059\tvalidation_1-mae:0.502046\n",
      "[47]\tvalidation_0-mae:0.085628\tvalidation_1-mae:0.502221\n",
      "[48]\tvalidation_0-mae:0.08491\tvalidation_1-mae:0.502508\n",
      "[49]\tvalidation_0-mae:0.084282\tvalidation_1-mae:0.502806\n",
      "[50]\tvalidation_0-mae:0.083397\tvalidation_1-mae:0.503644\n",
      "[51]\tvalidation_0-mae:0.083219\tvalidation_1-mae:0.503861\n",
      "[52]\tvalidation_0-mae:0.082479\tvalidation_1-mae:0.504074\n",
      "[53]\tvalidation_0-mae:0.082031\tvalidation_1-mae:0.503978\n",
      "[54]\tvalidation_0-mae:0.081859\tvalidation_1-mae:0.503947\n",
      "[55]\tvalidation_0-mae:0.081435\tvalidation_1-mae:0.504551\n",
      "[56]\tvalidation_0-mae:0.08132\tvalidation_1-mae:0.504599\n",
      "[57]\tvalidation_0-mae:0.081351\tvalidation_1-mae:0.50471\n",
      "[58]\tvalidation_0-mae:0.080662\tvalidation_1-mae:0.505101\n",
      "[59]\tvalidation_0-mae:0.080651\tvalidation_1-mae:0.505389\n",
      "[60]\tvalidation_0-mae:0.080374\tvalidation_1-mae:0.505583\n",
      "[61]\tvalidation_0-mae:0.08016\tvalidation_1-mae:0.505762\n",
      "[62]\tvalidation_0-mae:0.080032\tvalidation_1-mae:0.505777\n",
      "[63]\tvalidation_0-mae:0.079606\tvalidation_1-mae:0.506032\n",
      "[64]\tvalidation_0-mae:0.079507\tvalidation_1-mae:0.506143\n",
      "[65]\tvalidation_0-mae:0.079443\tvalidation_1-mae:0.506214\n",
      "[66]\tvalidation_0-mae:0.079268\tvalidation_1-mae:0.506455\n",
      "[67]\tvalidation_0-mae:0.079172\tvalidation_1-mae:0.506499\n",
      "[68]\tvalidation_0-mae:0.078755\tvalidation_1-mae:0.506681\n",
      "[69]\tvalidation_0-mae:0.078692\tvalidation_1-mae:0.506682\n",
      "[70]\tvalidation_0-mae:0.07862\tvalidation_1-mae:0.506709\n",
      "[71]\tvalidation_0-mae:0.078546\tvalidation_1-mae:0.506789\n",
      "[72]\tvalidation_0-mae:0.078476\tvalidation_1-mae:0.506783\n",
      "[73]\tvalidation_0-mae:0.078255\tvalidation_1-mae:0.506831\n",
      "[74]\tvalidation_0-mae:0.078153\tvalidation_1-mae:0.50689\n",
      "[75]\tvalidation_0-mae:0.078064\tvalidation_1-mae:0.506871\n",
      "[76]\tvalidation_0-mae:0.077923\tvalidation_1-mae:0.506957\n",
      "[77]\tvalidation_0-mae:0.077729\tvalidation_1-mae:0.507048\n",
      "[78]\tvalidation_0-mae:0.077536\tvalidation_1-mae:0.507193\n",
      "[79]\tvalidation_0-mae:0.07745\tvalidation_1-mae:0.507252\n",
      "[80]\tvalidation_0-mae:0.077347\tvalidation_1-mae:0.507361\n",
      "[81]\tvalidation_0-mae:0.077315\tvalidation_1-mae:0.507366\n",
      "[82]\tvalidation_0-mae:0.077277\tvalidation_1-mae:0.507331\n",
      "[83]\tvalidation_0-mae:0.077244\tvalidation_1-mae:0.507439\n",
      "[84]\tvalidation_0-mae:0.077098\tvalidation_1-mae:0.507507\n",
      "[85]\tvalidation_0-mae:0.077031\tvalidation_1-mae:0.507493\n",
      "[86]\tvalidation_0-mae:0.076815\tvalidation_1-mae:0.507576\n",
      "[87]\tvalidation_0-mae:0.076785\tvalidation_1-mae:0.507608\n",
      "[88]\tvalidation_0-mae:0.076757\tvalidation_1-mae:0.507616\n",
      "[89]\tvalidation_0-mae:0.076689\tvalidation_1-mae:0.50769\n",
      "[90]\tvalidation_0-mae:0.076631\tvalidation_1-mae:0.507787\n",
      "[91]\tvalidation_0-mae:0.076588\tvalidation_1-mae:0.507781\n",
      "[92]\tvalidation_0-mae:0.076507\tvalidation_1-mae:0.507842\n",
      "[93]\tvalidation_0-mae:0.076484\tvalidation_1-mae:0.507877\n",
      "[94]\tvalidation_0-mae:0.076421\tvalidation_1-mae:0.507949\n",
      "[95]\tvalidation_0-mae:0.076377\tvalidation_1-mae:0.507973\n",
      "[96]\tvalidation_0-mae:0.076343\tvalidation_1-mae:0.507989\n",
      "[97]\tvalidation_0-mae:0.0763\tvalidation_1-mae:0.507998\n",
      "[98]\tvalidation_0-mae:0.076294\tvalidation_1-mae:0.50805\n",
      "[99]\tvalidation_0-mae:0.076261\tvalidation_1-mae:0.508043\n",
      "[100]\tvalidation_0-mae:0.076235\tvalidation_1-mae:0.508037\n",
      "[101]\tvalidation_0-mae:0.076211\tvalidation_1-mae:0.508052\n",
      "[102]\tvalidation_0-mae:0.076174\tvalidation_1-mae:0.508073\n",
      "[103]\tvalidation_0-mae:0.076094\tvalidation_1-mae:0.508169\n",
      "[104]\tvalidation_0-mae:0.076079\tvalidation_1-mae:0.508172\n",
      "[105]\tvalidation_0-mae:0.076049\tvalidation_1-mae:0.50816\n",
      "[106]\tvalidation_0-mae:0.07604\tvalidation_1-mae:0.508158\n",
      "[107]\tvalidation_0-mae:0.07601\tvalidation_1-mae:0.508171\n",
      "[108]\tvalidation_0-mae:0.076008\tvalidation_1-mae:0.508223\n",
      "[109]\tvalidation_0-mae:0.075955\tvalidation_1-mae:0.508281\n",
      "[110]\tvalidation_0-mae:0.075923\tvalidation_1-mae:0.508287\n",
      "[111]\tvalidation_0-mae:0.07591\tvalidation_1-mae:0.50831\n",
      "[112]\tvalidation_0-mae:0.075902\tvalidation_1-mae:0.508313\n",
      "[113]\tvalidation_0-mae:0.075895\tvalidation_1-mae:0.508306\n",
      "[114]\tvalidation_0-mae:0.075869\tvalidation_1-mae:0.508325\n",
      "[115]\tvalidation_0-mae:0.075839\tvalidation_1-mae:0.508314\n",
      "[116]\tvalidation_0-mae:0.075786\tvalidation_1-mae:0.508398\n",
      "[117]\tvalidation_0-mae:0.075774\tvalidation_1-mae:0.508402\n",
      "[118]\tvalidation_0-mae:0.075757\tvalidation_1-mae:0.508409\n",
      "[119]\tvalidation_0-mae:0.075754\tvalidation_1-mae:0.508411\n",
      "[120]\tvalidation_0-mae:0.075705\tvalidation_1-mae:0.508436\n",
      "[121]\tvalidation_0-mae:0.075687\tvalidation_1-mae:0.50844\n",
      "[122]\tvalidation_0-mae:0.075675\tvalidation_1-mae:0.508459\n",
      "[123]\tvalidation_0-mae:0.075657\tvalidation_1-mae:0.508475\n",
      "[124]\tvalidation_0-mae:0.075649\tvalidation_1-mae:0.508479\n",
      "[125]\tvalidation_0-mae:0.075649\tvalidation_1-mae:0.50848\n",
      "[126]\tvalidation_0-mae:0.075649\tvalidation_1-mae:0.50848\n",
      "[127]\tvalidation_0-mae:0.075649\tvalidation_1-mae:0.50848\n",
      "Stopping. Best iteration:\n",
      "[27]\tvalidation_0-mae:0.113612\tvalidation_1-mae:0.496136\n",
      "\n"
     ]
    },
    {
     "data": {
      "text/plain": [
       "XGBRegressor(base_score=0.5, booster='gbtree', colsample_bylevel=1,\n",
       "             colsample_bynode=1, colsample_bytree=1, gamma=0,\n",
       "             importance_type='gain', learning_rate=0.5, max_delta_step=0,\n",
       "             max_depth=16, min_child_weight=1, missing=None, n_estimators=1000,\n",
       "             n_jobs=-1, nthread=None, objective='reg:linear', random_state=42,\n",
       "             reg_alpha=0, reg_lambda=1, scale_pos_weight=1, seed=None,\n",
       "             silent=None, subsample=1, verbosity=1)"
      ]
     },
     "execution_count": 129,
     "metadata": {},
     "output_type": "execute_result"
    }
   ],
   "source": [
    "# Fit XGBoost, stop early\n",
    "encoder = ce.TargetEncoder()\n",
    "X_train_encoded = encoder.fit_transform(X_train, y_train_log)\n",
    "X_val_encoded = encoder.transform(X_val)\n",
    "\n",
    "model = XGBRegressor(\n",
    "    n_estimators=1000,\n",
    "    random_state=42, \n",
    "    n_jobs=-1, \n",
    "    max_depth=16,\n",
    "    learning_rate=0.5,\n",
    "    )\n",
    "\n",
    "eval_set = [(X_train_encoded, y_train_log),\n",
    "            (X_val_encoded, y_val_log)]\n",
    "\n",
    "model.fit(X_train_encoded, y_train_log,\n",
    "          eval_set=eval_set,\n",
    "          eval_metric='mae',\n",
    "          early_stopping_rounds=100)"
   ]
  },
  {
   "cell_type": "markdown",
   "metadata": {},
   "source": [
    "The xgboost did not perform as well on the validation set as the cross validated, but this does not necessarily mean that it will perform poorly on the test set; the error is still below $1"
   ]
  },
  {
   "cell_type": "code",
   "execution_count": 137,
   "metadata": {},
   "outputs": [
    {
     "data": {
      "text/plain": [
       "0.6423632447395284"
      ]
     },
     "execution_count": 137,
     "metadata": {},
     "output_type": "execute_result"
    }
   ],
   "source": [
    "from sklearn.metrics import mean_absolute_error, r2_score\n",
    "y_pred = model.predict(X_val_encoded)\n",
    "mae = mean_absolute_error(y_val_log, y_pred)\n",
    "mae_untransformed = np.expm1(mae)\n",
    "mae_untransformed"
   ]
  },
  {
   "cell_type": "markdown",
   "metadata": {},
   "source": [
    "What is the R^2 score?"
   ]
  },
  {
   "cell_type": "code",
   "execution_count": 138,
   "metadata": {},
   "outputs": [
    {
     "data": {
      "text/plain": [
       "0.5223856147653485"
      ]
     },
     "execution_count": 138,
     "metadata": {},
     "output_type": "execute_result"
    }
   ],
   "source": [
    "r2_score(y_val_log, y_pred)"
   ]
  },
  {
   "cell_type": "markdown",
   "metadata": {},
   "source": [
    "### Partial Dependence Plots\n",
    "How does Body Color affect the prediction? I had originally hypothesized that color would have an important effect on a buyer's perspective of the guitar's worth."
   ]
  },
  {
   "cell_type": "code",
   "execution_count": 156,
   "metadata": {},
   "outputs": [],
   "source": [
    "from pdpbox.pdp import pdp_isolate, pdp_plot\n",
    "# TODO: Try using a model with one hot encoder to represent pdp for categorical variables\n",
    "feature = 'Body Color'\n",
    "\n",
    "isolated = pdp_isolate(\n",
    "    model=model,\n",
    "    dataset=X_val_encoded,\n",
    "    model_features=X_val.columns,\n",
    "    feature=feature\n",
    ")"
   ]
  },
  {
   "cell_type": "code",
   "execution_count": 159,
   "metadata": {},
   "outputs": [
    {
     "data": {
      "image/png": "[encoded data removed]",
      "text/plain": [
       "<Figure size 1080x684 with 2 Axes>"
      ]
     },
     "metadata": {
      "needs_background": "light"
     },
     "output_type": "display_data"
    }
   ],
   "source": [
    "pdp_plot(isolated, feature_name=feature);"
   ]
  },
  {
   "cell_type": "code",
   "execution_count": 161,
   "metadata": {},
   "outputs": [
    {
     "data": {
      "text/html": [
       "<div>\n",
       "<style scoped>\n",
       "    .dataframe tbody tr th:only-of-type {\n",
       "        vertical-align: middle;\n",
       "    }\n",
       "\n",
       "    .dataframe tbody tr th {\n",
       "        vertical-align: top;\n",
       "    }\n",
       "\n",
       "    .dataframe thead th {\n",
       "        text-align: right;\n",
       "    }\n",
       "</style>\n",
       "<table border=\"1\" class=\"dataframe\">\n",
       "  <thead>\n",
       "    <tr style=\"text-align: right;\">\n",
       "      <th></th>\n",
       "      <th>Model</th>\n",
       "      <th>MPN</th>\n",
       "      <th>Body Color</th>\n",
       "      <th>Brand</th>\n",
       "      <th>UPC</th>\n",
       "      <th>Body Material</th>\n",
       "      <th>Body Type</th>\n",
       "      <th>Model Year</th>\n",
       "      <th>Size</th>\n",
       "      <th>Country/Region of Manufacture</th>\n",
       "      <th>String Configuration</th>\n",
       "      <th>Orientation</th>\n",
       "      <th>Product Line</th>\n",
       "      <th>Condition</th>\n",
       "    </tr>\n",
       "  </thead>\n",
       "  <tbody>\n",
       "    <tr>\n",
       "      <th>6270</th>\n",
       "      <td>5.874768</td>\n",
       "      <td>5.641869</td>\n",
       "      <td>6.181127</td>\n",
       "      <td>4.792411</td>\n",
       "      <td>5.808758</td>\n",
       "      <td>6.311526</td>\n",
       "      <td>5.984205</td>\n",
       "      <td>2019.0</td>\n",
       "      <td>5.774949</td>\n",
       "      <td>5.658676</td>\n",
       "      <td>5.919246</td>\n",
       "      <td>5.967254</td>\n",
       "      <td>5.77336</td>\n",
       "      <td>5.556898</td>\n",
       "    </tr>\n",
       "    <tr>\n",
       "      <th>11920</th>\n",
       "      <td>5.699115</td>\n",
       "      <td>5.881134</td>\n",
       "      <td>5.635791</td>\n",
       "      <td>4.938193</td>\n",
       "      <td>5.808758</td>\n",
       "      <td>5.810445</td>\n",
       "      <td>5.984205</td>\n",
       "      <td>NaN</td>\n",
       "      <td>5.774949</td>\n",
       "      <td>5.541525</td>\n",
       "      <td>5.919246</td>\n",
       "      <td>5.967254</td>\n",
       "      <td>5.77336</td>\n",
       "      <td>6.004445</td>\n",
       "    </tr>\n",
       "    <tr>\n",
       "      <th>2389</th>\n",
       "      <td>6.306003</td>\n",
       "      <td>6.036769</td>\n",
       "      <td>6.042825</td>\n",
       "      <td>5.657533</td>\n",
       "      <td>5.976617</td>\n",
       "      <td>5.810445</td>\n",
       "      <td>5.984205</td>\n",
       "      <td>NaN</td>\n",
       "      <td>5.973296</td>\n",
       "      <td>6.268540</td>\n",
       "      <td>5.919246</td>\n",
       "      <td>5.967254</td>\n",
       "      <td>5.77336</td>\n",
       "      <td>6.004445</td>\n",
       "    </tr>\n",
       "    <tr>\n",
       "      <th>3239</th>\n",
       "      <td>5.874768</td>\n",
       "      <td>5.881134</td>\n",
       "      <td>6.494312</td>\n",
       "      <td>5.368995</td>\n",
       "      <td>5.808758</td>\n",
       "      <td>5.810445</td>\n",
       "      <td>6.305679</td>\n",
       "      <td>NaN</td>\n",
       "      <td>5.973296</td>\n",
       "      <td>6.937353</td>\n",
       "      <td>5.919246</td>\n",
       "      <td>5.967254</td>\n",
       "      <td>5.77336</td>\n",
       "      <td>6.004445</td>\n",
       "    </tr>\n",
       "    <tr>\n",
       "      <th>3988</th>\n",
       "      <td>6.306003</td>\n",
       "      <td>6.036769</td>\n",
       "      <td>6.160667</td>\n",
       "      <td>5.851067</td>\n",
       "      <td>5.976617</td>\n",
       "      <td>5.810445</td>\n",
       "      <td>5.717499</td>\n",
       "      <td>NaN</td>\n",
       "      <td>5.973296</td>\n",
       "      <td>5.658676</td>\n",
       "      <td>5.919246</td>\n",
       "      <td>5.787917</td>\n",
       "      <td>5.77336</td>\n",
       "      <td>6.004445</td>\n",
       "    </tr>\n",
       "    <tr>\n",
       "      <th>...</th>\n",
       "      <td>...</td>\n",
       "      <td>...</td>\n",
       "      <td>...</td>\n",
       "      <td>...</td>\n",
       "      <td>...</td>\n",
       "      <td>...</td>\n",
       "      <td>...</td>\n",
       "      <td>...</td>\n",
       "      <td>...</td>\n",
       "      <td>...</td>\n",
       "      <td>...</td>\n",
       "      <td>...</td>\n",
       "      <td>...</td>\n",
       "      <td>...</td>\n",
       "    </tr>\n",
       "    <tr>\n",
       "      <th>1978</th>\n",
       "      <td>5.874768</td>\n",
       "      <td>6.036769</td>\n",
       "      <td>5.957833</td>\n",
       "      <td>6.590881</td>\n",
       "      <td>5.976617</td>\n",
       "      <td>5.810445</td>\n",
       "      <td>5.984205</td>\n",
       "      <td>2016.0</td>\n",
       "      <td>5.774949</td>\n",
       "      <td>6.937353</td>\n",
       "      <td>6.022260</td>\n",
       "      <td>5.967254</td>\n",
       "      <td>5.77336</td>\n",
       "      <td>6.004445</td>\n",
       "    </tr>\n",
       "    <tr>\n",
       "      <th>8243</th>\n",
       "      <td>5.874768</td>\n",
       "      <td>5.881134</td>\n",
       "      <td>6.199153</td>\n",
       "      <td>5.657533</td>\n",
       "      <td>5.808758</td>\n",
       "      <td>6.892225</td>\n",
       "      <td>5.984205</td>\n",
       "      <td>2002.0</td>\n",
       "      <td>5.973296</td>\n",
       "      <td>5.658676</td>\n",
       "      <td>5.919246</td>\n",
       "      <td>5.967254</td>\n",
       "      <td>5.77336</td>\n",
       "      <td>6.004445</td>\n",
       "    </tr>\n",
       "    <tr>\n",
       "      <th>5865</th>\n",
       "      <td>5.874768</td>\n",
       "      <td>6.036769</td>\n",
       "      <td>6.043294</td>\n",
       "      <td>5.657533</td>\n",
       "      <td>5.976617</td>\n",
       "      <td>5.810445</td>\n",
       "      <td>5.984205</td>\n",
       "      <td>NaN</td>\n",
       "      <td>5.973296</td>\n",
       "      <td>5.658676</td>\n",
       "      <td>5.919246</td>\n",
       "      <td>5.967254</td>\n",
       "      <td>5.77336</td>\n",
       "      <td>6.004445</td>\n",
       "    </tr>\n",
       "    <tr>\n",
       "      <th>2308</th>\n",
       "      <td>5.874768</td>\n",
       "      <td>6.036769</td>\n",
       "      <td>5.969624</td>\n",
       "      <td>7.031513</td>\n",
       "      <td>5.976617</td>\n",
       "      <td>5.810445</td>\n",
       "      <td>5.717499</td>\n",
       "      <td>NaN</td>\n",
       "      <td>5.973296</td>\n",
       "      <td>5.658676</td>\n",
       "      <td>5.919246</td>\n",
       "      <td>5.967254</td>\n",
       "      <td>5.77336</td>\n",
       "      <td>6.004445</td>\n",
       "    </tr>\n",
       "    <tr>\n",
       "      <th>5417</th>\n",
       "      <td>5.038817</td>\n",
       "      <td>5.881134</td>\n",
       "      <td>5.607477</td>\n",
       "      <td>5.098521</td>\n",
       "      <td>5.976617</td>\n",
       "      <td>6.162276</td>\n",
       "      <td>6.305679</td>\n",
       "      <td>2019.0</td>\n",
       "      <td>5.973296</td>\n",
       "      <td>5.658676</td>\n",
       "      <td>5.919246</td>\n",
       "      <td>5.967254</td>\n",
       "      <td>5.77336</td>\n",
       "      <td>6.004445</td>\n",
       "    </tr>\n",
       "  </tbody>\n",
       "</table>\n",
       "<p>1992 rows × 14 columns</p>\n",
       "</div>"
      ],
      "text/plain": [
       "          Model       MPN  Body Color     Brand       UPC  Body Material  \\\n",
       "6270   5.874768  5.641869    6.181127  4.792411  5.808758       6.311526   \n",
       "11920  5.699115  5.881134    5.635791  4.938193  5.808758       5.810445   \n",
       "2389   6.306003  6.036769    6.042825  5.657533  5.976617       5.810445   \n",
       "3239   5.874768  5.881134    6.494312  5.368995  5.808758       5.810445   \n",
       "3988   6.306003  6.036769    6.160667  5.851067  5.976617       5.810445   \n",
       "...         ...       ...         ...       ...       ...            ...   \n",
       "1978   5.874768  6.036769    5.957833  6.590881  5.976617       5.810445   \n",
       "8243   5.874768  5.881134    6.199153  5.657533  5.808758       6.892225   \n",
       "5865   5.874768  6.036769    6.043294  5.657533  5.976617       5.810445   \n",
       "2308   5.874768  6.036769    5.969624  7.031513  5.976617       5.810445   \n",
       "5417   5.038817  5.881134    5.607477  5.098521  5.976617       6.162276   \n",
       "\n",
       "       Body Type  Model Year      Size  Country/Region of Manufacture  \\\n",
       "6270    5.984205      2019.0  5.774949                       5.658676   \n",
       "11920   5.984205         NaN  5.774949                       5.541525   \n",
       "2389    5.984205         NaN  5.973296                       6.268540   \n",
       "3239    6.305679         NaN  5.973296                       6.937353   \n",
       "3988    5.717499         NaN  5.973296                       5.658676   \n",
       "...          ...         ...       ...                            ...   \n",
       "1978    5.984205      2016.0  5.774949                       6.937353   \n",
       "8243    5.984205      2002.0  5.973296                       5.658676   \n",
       "5865    5.984205         NaN  5.973296                       5.658676   \n",
       "2308    5.717499         NaN  5.973296                       5.658676   \n",
       "5417    6.305679      2019.0  5.973296                       5.658676   \n",
       "\n",
       "       String Configuration  Orientation  Product Line  Condition  \n",
       "6270               5.919246     5.967254       5.77336   5.556898  \n",
       "11920              5.919246     5.967254       5.77336   6.004445  \n",
       "2389               5.919246     5.967254       5.77336   6.004445  \n",
       "3239               5.919246     5.967254       5.77336   6.004445  \n",
       "3988               5.919246     5.787917       5.77336   6.004445  \n",
       "...                     ...          ...           ...        ...  \n",
       "1978               6.022260     5.967254       5.77336   6.004445  \n",
       "8243               5.919246     5.967254       5.77336   6.004445  \n",
       "5865               5.919246     5.967254       5.77336   6.004445  \n",
       "2308               5.919246     5.967254       5.77336   6.004445  \n",
       "5417               5.919246     5.967254       5.77336   6.004445  \n",
       "\n",
       "[1992 rows x 14 columns]"
      ]
     },
     "execution_count": 161,
     "metadata": {},
     "output_type": "execute_result"
    }
   ],
   "source": [
    "X_val_encoded"
   ]
  }
 ],
 "metadata": {
  "kernelspec": {
   "display_name": "Python 3",
   "language": "python",
   "name": "python3"
  },
  "language_info": {
   "codemirror_mode": {
    "name": "ipython",
    "version": 3
   },
   "file_extension": ".py",
   "mimetype": "text/x-python",
   "name": "python",
   "nbconvert_exporter": "python",
   "pygments_lexer": "ipython3",
   "version": "3.7.6"
  }
 },
 "nbformat": 4,
 "nbformat_minor": 4
}

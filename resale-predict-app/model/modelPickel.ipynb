{
 "cells": [
  {
   "cell_type": "code",
   "execution_count": 3,
   "metadata": {},
   "outputs": [
    {
     "data": {
      "text/plain": [
       "['pipeline.joblib']"
      ]
     },
     "execution_count": 3,
     "metadata": {},
     "output_type": "execute_result"
    }
   ],
   "source": [
    "import category_encoders as ce\n",
    "from joblib import dump, load\n",
    "import numpy as np\n",
    "import pandas as pd\n",
    "from xgboost import XGBRegressor\n",
    "from sklearn.pipeline import make_pipeline\n",
    "\n",
    "guitars = pd.read_csv('../../data/web-app-guitars.csv')\n",
    "\n",
    "target = 'Price'\n",
    "X = guitars.drop(columns=target)\n",
    "y_log = np.log1p(guitars[target])\n",
    "\n",
    "pipeline = make_pipeline(\n",
    "    ce.OrdinalEncoder(),\n",
    "    XGBRegressor(n_estimators=142,\n",
    "                 random_state=42,\n",
    "                 n_jobs=-1,\n",
    "                 max_depth=16,\n",
    "                 learning_rate=0.1,\n",
    "                 objective='reg:squarederror'\n",
    "                )\n",
    ")\n",
    "\n",
    "pipeline.fit(X, y_log)\n",
    "dump(pipeline, 'pipeline.joblib')"
   ]
  }
 ],
 "metadata": {
  "kernelspec": {
   "display_name": "Python 3",
   "language": "python",
   "name": "python3"
  },
  "language_info": {
   "codemirror_mode": {
    "name": "ipython",
    "version": 3
   },
   "file_extension": ".py",
   "mimetype": "text/x-python",
   "name": "python",
   "nbconvert_exporter": "python",
   "pygments_lexer": "ipython3",
   "version": "3.7.4"
  }
 },
 "nbformat": 4,
 "nbformat_minor": 4
}
